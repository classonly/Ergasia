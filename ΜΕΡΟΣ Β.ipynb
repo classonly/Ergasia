{
 "cells": [
  {
   "cell_type": "code",
   "execution_count": 6,
   "id": "0ddad1cf-9cf0-4078-b3b7-721b9d7f557c",
   "metadata": {},
   "outputs": [],
   "source": [
    "import numpy as np\n",
    "\n",
    "def matrix_prod(A, B):\n",
    "    try:\n",
    "        A = np.array(A)\n",
    "        B = np.array(B)\n",
    "        \n",
    "        if A.shape[1] != B.shape[0]:\n",
    "            raise ValueError(\"Δεν γίνεται πολλαπλασιασμός με τις διαστάσεις αυτών των πινάκων.\")\n",
    "       \n",
    "        C = np.dot(A, B)\n",
    "        return C\n",
    "\n",
    "    except ValueError:\n",
    "        print(\"Σφάλμα.\")"
   ]
  },
  {
   "cell_type": "code",
   "execution_count": 15,
   "id": "f3e19db4-d3f1-4699-bea3-c316e9791619",
   "metadata": {},
   "outputs": [
    {
     "name": "stdout",
     "output_type": "stream",
     "text": [
      "[[ 11  31]\n",
      " [ 31  81]\n",
      " [ 42 112]]\n"
     ]
    }
   ],
   "source": [
    "A = [[2, 1, 3],\n",
    "     [3, 9, 4],\n",
    "     [5, 10, 7]]\n",
    "\n",
    "B = [[3, 4],\n",
    "     [2, 5],\n",
    "     [1, 6]]\n",
    "\n",
    "print (matrix_prod(A, B))"
   ]
  },
  {
   "cell_type": "code",
   "execution_count": 19,
   "id": "ae9f21b8-51bb-4f78-9622-91b10110fe68",
   "metadata": {},
   "outputs": [
    {
     "name": "stdout",
     "output_type": "stream",
     "text": [
      "Σφάλμα.\n",
      "None\n"
     ]
    }
   ],
   "source": [
    "A = [[2, 1, 3],\n",
    "     [3, 9, 4],\n",
    "     [5, 10, 7]]\n",
    "\n",
    "B = [[3, 4],\n",
    "     [2, 5],\n",
    "     [1]]\n",
    "\n",
    "print (matrix_prod(A, B))"
   ]
  },
  {
   "cell_type": "code",
   "execution_count": null,
   "id": "fcfd24e0-ac4b-4002-93df-5676d8632fe8",
   "metadata": {},
   "outputs": [],
   "source": []
  }
 ],
 "metadata": {
  "kernelspec": {
   "display_name": "Python 3 (ipykernel)",
   "language": "python",
   "name": "python3"
  },
  "language_info": {
   "codemirror_mode": {
    "name": "ipython",
    "version": 3
   },
   "file_extension": ".py",
   "mimetype": "text/x-python",
   "name": "python",
   "nbconvert_exporter": "python",
   "pygments_lexer": "ipython3",
   "version": "3.12.7"
  }
 },
 "nbformat": 4,
 "nbformat_minor": 5
}
