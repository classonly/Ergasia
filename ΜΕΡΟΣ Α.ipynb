{
 "cells": [
  {
   "cell_type": "code",
   "id": "2989623f-5f58-42c9-beef-9dc8053328eb",
   "metadata": {
    "jupyter": {
     "is_executing": true
    }
   },
   "source": [
    "import math\n",
    "def stats_and_cov_of_X_and_Y(X,Y):\n",
    "    try:\n",
    "        if len(X)!=len(Y):\n",
    "            raise ValueError\n",
    "        else:\n",
    "            n=len(X)\n",
    "            mean_X = sum(X) / n\n",
    "            mean_Y = sum(Y) / n\n",
    "    \n",
    "            variance_X = sum((X[i] - mean_X) ** 2 for i in range(n)) / (n - 1)\n",
    "            variance_Y = sum((Y[i] - mean_Y) ** 2 for i in range(n)) / (n - 1)\n",
    "    \n",
    "            std_X = math.sqrt(variance_X)\n",
    "            std_Y = math.sqrt(variance_Y)\n",
    "    \n",
    "            covariance_X_Y = sum((X[i] - mean_X) * (Y[i] - mean_Y) for i in range(n)) / n\n",
    "        \n",
    "            dict={\n",
    "            \"basic_statistics_X\": {\n",
    "                \"mean\": mean_X,\n",
    "                \"variance\": variance_X,\n",
    "                \"std\": std_X\n",
    "            },\n",
    "            \"basic_statistics_Y\": {\n",
    "                \"mean\": mean_Y,\n",
    "                \"variance\": variance_Y,\n",
    "                \"std\": std_Y\n",
    "            },\n",
    "            \"covariance_X_Y\": covariance_X_Y\n",
    "        }\n",
    "\n",
    "            return dict\n",
    "    except ValueError:\n",
    "        print(\"Δείγματα πρέπει να είναι ίσου μεγέθους.\")"
   ],
   "outputs": [],
   "execution_count": null
  },
  {
   "cell_type": "code",
   "execution_count": 87,
   "id": "a7fe8f35-42e6-4c9f-9e6c-9df7da1e32bc",
   "metadata": {},
   "outputs": [
    {
     "name": "stdout",
     "output_type": "stream",
     "text": [
      "{'basic_statistics_X': {'mean': 3.0, 'variance': 2.5, 'std': 1.5811388300841898}, 'basic_statistics_Y': {'mean': 6.0, 'variance': 10.0, 'std': 3.1622776601683795}, 'covariance_X_Y': 4.0}\n"
     ]
    }
   ],
   "source": [
    "X = [1, 2, 3, 4, 5]\n",
    "Y = [2, 4, 6, 8, 10]\n",
    "\n",
    "print (stats_and_cov_of_X_and_Y(X,Y)) "
   ]
  },
  {
   "cell_type": "code",
   "execution_count": 89,
   "id": "6fc6296f-7d5a-482e-a0ec-8bf81f7c05c0",
   "metadata": {},
   "outputs": [
    {
     "name": "stdout",
     "output_type": "stream",
     "text": [
      "Δείγματα πρέπει να είναι ίσου μεγέθους.\n",
      "None\n"
     ]
    }
   ],
   "source": [
    "X = [1, 2, 3, 4, 5]\n",
    "Y = [2, 4, 6, 8]\n",
    "\n",
    "print (stats_and_cov_of_X_and_Y(X,Y)) "
   ]
  },
  {
   "cell_type": "code",
   "execution_count": null,
   "id": "4a5f2b3a-48be-4d61-8347-47e391d8ca8c",
   "metadata": {},
   "outputs": [],
   "source": []
  }
 ],
 "metadata": {
  "kernelspec": {
   "display_name": "Python 3 (ipykernel)",
   "language": "python",
   "name": "python3"
  },
  "language_info": {
   "codemirror_mode": {
    "name": "ipython",
    "version": 3
   },
   "file_extension": ".py",
   "mimetype": "text/x-python",
   "name": "python",
   "nbconvert_exporter": "python",
   "pygments_lexer": "ipython3",
   "version": "3.12.7"
  }
 },
 "nbformat": 4,
 "nbformat_minor": 5
}
