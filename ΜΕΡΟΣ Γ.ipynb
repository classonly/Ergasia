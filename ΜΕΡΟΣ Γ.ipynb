{
 "cells": [
  {
   "cell_type": "code",
   "execution_count": 7,
   "id": "f62726ab-d2aa-4844-b95c-df55c78fd6da",
   "metadata": {},
   "outputs": [],
   "source": [
    "def list_operations(A,B):\n",
    "    try:\n",
    "        if len(A) != len(B):\n",
    "            raise ValueError\n",
    "        else:\n",
    "            sum_of_lists = [a + b for a, b in zip(A, B)]\n",
    "            prod_of_lists = [(a * b) ** 2 for a, b in zip(A, B)]\n",
    "            return {\n",
    "        \"sum_of_lists\": sum_of_lists,\n",
    "        \"prod_of_lists\": prod_of_lists,\n",
    "        \"length_of_list_A\": len(A),\n",
    "        \"length_of_list_B\": len(B)\n",
    "            }\n",
    "    except ValueError:\n",
    "        return {\n",
    "            \"sum_of_lists\": False,\n",
    "            \"prod_of_lists\": False,\n",
    "            \"length_of_list_A\": len(A),\n",
    "            \"length_of_list_B\": len(B)\n",
    "        }\n"
   ]
  },
  {
   "cell_type": "code",
   "execution_count": 13,
   "id": "932109ee-e7a1-4ffa-9157-6f65b11ac0db",
   "metadata": {},
   "outputs": [
    {
     "data": {
      "text/plain": [
       "{'sum_of_lists': [5, 5, 5, 5, 5, 5],\n",
       " 'prod_of_lists': [36, 36, 36, 36, 36, 36],\n",
       " 'length_of_list_A': 6,\n",
       " 'length_of_list_B': 6}"
      ]
     },
     "execution_count": 13,
     "metadata": {},
     "output_type": "execute_result"
    }
   ],
   "source": [
    "A = [2,2,2,2,2,2]\n",
    "B = [3,3,3,3,3,3]\n",
    "\n",
    "list_operations(A,B) "
   ]
  },
  {
   "cell_type": "code",
   "execution_count": 17,
   "id": "80cc6653-efed-434a-9622-a4cc5b36b4ce",
   "metadata": {},
   "outputs": [
    {
     "data": {
      "text/plain": [
       "{'sum_of_lists': False,\n",
       " 'prod_of_lists': False,\n",
       " 'length_of_list_A': 6,\n",
       " 'length_of_list_B': 2}"
      ]
     },
     "execution_count": 17,
     "metadata": {},
     "output_type": "execute_result"
    }
   ],
   "source": [
    "A = [2,2,2,2,2,2]\n",
    "B = [3,3]\n",
    "list_operations(A,B) "
   ]
  },
  {
   "cell_type": "code",
   "execution_count": null,
   "id": "49deceb6-f149-435a-a414-1fb6df8936da",
   "metadata": {},
   "outputs": [],
   "source": []
  }
 ],
 "metadata": {
  "kernelspec": {
   "display_name": "Python 3 (ipykernel)",
   "language": "python",
   "name": "python3"
  },
  "language_info": {
   "codemirror_mode": {
    "name": "ipython",
    "version": 3
   },
   "file_extension": ".py",
   "mimetype": "text/x-python",
   "name": "python",
   "nbconvert_exporter": "python",
   "pygments_lexer": "ipython3",
   "version": "3.12.7"
  }
 },
 "nbformat": 4,
 "nbformat_minor": 5
}
