{
 "cells": [
  {
   "cell_type": "code",
   "execution_count": 3,
   "id": "39bdc003-f43d-4b7b-b433-714850321675",
   "metadata": {},
   "outputs": [],
   "source": [
    "students_scores = [ ('Alice', 85, 90, 82), ('Bob', 78, 76, 88), ('Charlie', 92, 89, 95), ('David', 70, 72, 68), ('Eve', 88, 92, 91)]\n",
    "\n",
    "import math\n",
    "\n",
    "def calculate_averages(students_scores):\n",
    "    subjects = {'Math': 0, 'Physics': 0, 'English': 0}\n",
    "\n",
    "    for student in students_scores:\n",
    "        subjects['Math'] += student[1]\n",
    "        subjects['Physics'] += student[2]\n",
    "        subjects['English'] += student[3]\n",
    "\n",
    "    num_students = len(students_scores)\n",
    "\n",
    "    return {subject: (total / num_students) for subject, total in subjects.items()}"
   ]
  },
  {
   "cell_type": "code",
   "execution_count": 5,
   "id": "4d69528c-db29-4d64-b0e6-e44519708b07",
   "metadata": {},
   "outputs": [
    {
     "data": {
      "text/plain": [
       "{'Math': 82.6, 'Physics': 83.8, 'English': 84.8}"
      ]
     },
     "execution_count": 5,
     "metadata": {},
     "output_type": "execute_result"
    }
   ],
   "source": [
    "calculate_averages(students_scores)\n"
   ]
  },
  {
   "cell_type": "code",
   "execution_count": 7,
   "id": "6828ebc9-9a68-489d-823d-31ee138bb753",
   "metadata": {},
   "outputs": [],
   "source": [
    "def top_students(students_scores):\n",
    "    top_scores = {'Math': ('', 0), 'Physics': ('', 0), 'English': ('', 0)}\n",
    "\n",
    "    for student in students_scores:\n",
    "        name, math, physics, english = student\n",
    "\n",
    "        if math > top_scores['Math'][1]:\n",
    "            top_scores['Math'] = (name, math)\n",
    "        if physics > top_scores['Physics'][1]:\n",
    "            top_scores['Physics'] = (name, physics)\n",
    "        if english > top_scores['English'][1]:\n",
    "            top_scores['English'] = (name, english)\n",
    "\n",
    "    return {subject: student[0] for subject, student in top_scores.items()}"
   ]
  },
  {
   "cell_type": "code",
   "execution_count": 9,
   "id": "cc80d947-5601-4546-8621-5b5225c57a8f",
   "metadata": {},
   "outputs": [
    {
     "data": {
      "text/plain": [
       "{'Math': 'Charlie', 'Physics': 'Eve', 'English': 'Charlie'}"
      ]
     },
     "execution_count": 9,
     "metadata": {},
     "output_type": "execute_result"
    }
   ],
   "source": [
    "top_students(students_scores)"
   ]
  },
  {
   "cell_type": "code",
   "execution_count": 23,
   "id": "41d7ea9e-0ce7-4831-bb26-3736cbc78db2",
   "metadata": {},
   "outputs": [],
   "source": [
    "def students_above_threshold(students_scores, threshold):\n",
    "    count = 0\n",
    "    for student in students_scores:\n",
    "        name, math, physics, english = student\n",
    "        if math > threshold and physics > threshold and english > threshold:\n",
    "            count += 1\n",
    "\n",
    "    return count"
   ]
  },
  {
   "cell_type": "code",
   "execution_count": 31,
   "id": "3ba8feb0-061a-4f6c-b3b9-8a1c8f3b8722",
   "metadata": {},
   "outputs": [
    {
     "data": {
      "text/plain": [
       "0"
      ]
     },
     "execution_count": 31,
     "metadata": {},
     "output_type": "execute_result"
    }
   ],
   "source": [
    "students_above_threshold(students_scores, 100)"
   ]
  },
  {
   "cell_type": "code",
   "execution_count": 33,
   "id": "98ffb29b-4f31-4cbe-8287-4995ba7a10f7",
   "metadata": {},
   "outputs": [],
   "source": [
    "def unique_scores(students_scores):\n",
    "    unique_set = set()\n",
    "\n",
    "    for student in students_scores:\n",
    "        name, math, physics, english = student\n",
    "        unique_set.update([math, physics, english])\n",
    "\n",
    "    return unique_set"
   ]
  },
  {
   "cell_type": "code",
   "execution_count": 35,
   "id": "576c18d6-8254-4d2c-a080-92a0eb6d7939",
   "metadata": {},
   "outputs": [
    {
     "data": {
      "text/plain": [
       "{68, 70, 72, 76, 78, 82, 85, 88, 89, 90, 91, 92, 95}"
      ]
     },
     "execution_count": 35,
     "metadata": {},
     "output_type": "execute_result"
    }
   ],
   "source": [
    "unique_scores(students_scores)"
   ]
  },
  {
   "cell_type": "code",
   "execution_count": 37,
   "id": "82646077-6e7b-4b03-9433-d11a7bb31cbb",
   "metadata": {},
   "outputs": [],
   "source": [
    "def calculate_std_deviation(students_scores):\n",
    "    subjects = {'Math': [], 'Physics': [], 'English': []}\n",
    "\n",
    "    for student in students_scores:\n",
    "        subjects['Math'].append(student[1])\n",
    "        subjects['Physics'].append(student[2])\n",
    "        subjects['English'].append(student[3])\n",
    "\n",
    "    std_deviation = {}\n",
    "    for subject, scores in subjects.items():\n",
    "        mean = sum(scores) / len(scores)\n",
    "        variance = sum((x - mean) ** 2 for x in scores) / len(scores)\n",
    "        std_deviation[subject] = round(math.sqrt(variance), 2)\n",
    "\n",
    "    return std_deviation"
   ]
  },
  {
   "cell_type": "code",
   "execution_count": 39,
   "id": "279aeafb-a0d4-404f-aa4e-1c79bbcc56b0",
   "metadata": {},
   "outputs": [
    {
     "data": {
      "text/plain": [
       "{'Math': 7.79, 'Physics': 8.16, 'English': 9.41}"
      ]
     },
     "execution_count": 39,
     "metadata": {},
     "output_type": "execute_result"
    }
   ],
   "source": [
    "calculate_std_deviation(students_scores)"
   ]
  },
  {
   "cell_type": "code",
   "execution_count": null,
   "id": "3011b8b9-d8a0-4a21-aff8-3edfa59c411d",
   "metadata": {},
   "outputs": [],
   "source": []
  }
 ],
 "metadata": {
  "kernelspec": {
   "display_name": "Python 3 (ipykernel)",
   "language": "python",
   "name": "python3"
  },
  "language_info": {
   "codemirror_mode": {
    "name": "ipython",
    "version": 3
   },
   "file_extension": ".py",
   "mimetype": "text/x-python",
   "name": "python",
   "nbconvert_exporter": "python",
   "pygments_lexer": "ipython3",
   "version": "3.12.7"
  }
 },
 "nbformat": 4,
 "nbformat_minor": 5
}
